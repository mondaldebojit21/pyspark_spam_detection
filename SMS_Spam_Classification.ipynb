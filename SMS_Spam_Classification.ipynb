{
 "cells": [
  {
   "cell_type": "code",
   "execution_count": 0,
   "metadata": {
    "application/vnd.databricks.v1+cell": {
     "cellMetadata": {
      "byteLimit": 2048000,
      "rowLimit": 10000
     },
     "inputWidgets": {},
     "nuid": "e8c7e253-b8d4-4841-89de-98ae6537c81c",
     "showTitle": false,
     "title": ""
    }
   },
   "outputs": [],
   "source": [
    "file_location=r'/FileStore/tables/spam.csv'"
   ]
  },
  {
   "cell_type": "code",
   "execution_count": 0,
   "metadata": {
    "application/vnd.databricks.v1+cell": {
     "cellMetadata": {
      "byteLimit": 2048000,
      "rowLimit": 10000
     },
     "inputWidgets": {},
     "nuid": "fd1ce88a-c4a4-450e-99c1-1fd2a42703b1",
     "showTitle": false,
     "title": ""
    }
   },
   "outputs": [],
   "source": [
    "# !pip install nltk\n",
    "# import nltk\n",
    "# nltk.download('stopwords')\n",
    "# nltk.download('wordnet')"
   ]
  },
  {
   "cell_type": "code",
   "execution_count": 0,
   "metadata": {
    "application/vnd.databricks.v1+cell": {
     "cellMetadata": {
      "byteLimit": 2048000,
      "rowLimit": 10000
     },
     "inputWidgets": {},
     "nuid": "544587d7-0f7f-4b59-9317-02b77ed11a6b",
     "showTitle": false,
     "title": ""
    }
   },
   "outputs": [],
   "source": [
    "from pyspark.sql import SparkSession\n",
    "from pyspark.ml.classification import LogisticRegression, RandomForestClassifier, LinearSVC, DecisionTreeClassifier\n",
    "from pyspark.sql.functions import col, udf\n",
    "from pyspark.sql.types import  IntegerType,StringType\n",
    "from pyspark.ml.feature import HashingTF, IDF, Tokenizer,StopWordsRemover\n",
    "from nltk.corpus import stopwords\n",
    "from pyspark.ml.evaluation import MulticlassClassificationEvaluator,BinaryClassificationEvaluator\n",
    "from pyspark.ml.tuning import CrossValidator, ParamGridBuilder\n",
    "from nltk.stem import WordNetLemmatizer"
   ]
  },
  {
   "cell_type": "code",
   "execution_count": 0,
   "metadata": {
    "application/vnd.databricks.v1+cell": {
     "cellMetadata": {
      "byteLimit": 2048000,
      "rowLimit": 10000
     },
     "inputWidgets": {},
     "nuid": "12216b56-1f31-4a5d-947f-5f1158a265f1",
     "showTitle": false,
     "title": ""
    }
   },
   "outputs": [],
   "source": [
    "wnl = WordNetLemmatizer()"
   ]
  },
  {
   "cell_type": "code",
   "execution_count": 0,
   "metadata": {
    "application/vnd.databricks.v1+cell": {
     "cellMetadata": {
      "byteLimit": 2048000,
      "rowLimit": 10000
     },
     "inputWidgets": {},
     "nuid": "585ed6ac-f881-4b43-a6d9-7d4bff13520c",
     "showTitle": false,
     "title": ""
    }
   },
   "outputs": [],
   "source": [
    "spark = SparkSession.builder.appName(\n",
    "\t'Text_Classification').getOrCreate()\n",
    "\n",
    "\n",
    "data = spark.read.csv(file_location, sep=',',\n",
    "\t\t\t\t\t\tinferSchema=True, header=True)"
   ]
  },
  {
   "cell_type": "code",
   "execution_count": 0,
   "metadata": {
    "application/vnd.databricks.v1+cell": {
     "cellMetadata": {
      "byteLimit": 2048000,
      "rowLimit": 10000
     },
     "inputWidgets": {},
     "nuid": "d0ee995f-015d-4a46-aa65-956820b56129",
     "showTitle": false,
     "title": ""
    }
   },
   "outputs": [
    {
     "output_type": "execute_result",
     "data": {
      "text/plain": [
       "pyspark.sql.dataframe.DataFrame"
      ]
     },
     "execution_count": 298,
     "metadata": {},
     "output_type": "execute_result"
    }
   ],
   "source": [
    "type(data)"
   ]
  },
  {
   "cell_type": "code",
   "execution_count": 0,
   "metadata": {
    "application/vnd.databricks.v1+cell": {
     "cellMetadata": {
      "byteLimit": 2048000,
      "rowLimit": 10000
     },
     "inputWidgets": {},
     "nuid": "3cfa2207-ec31-46ce-94d8-88c1f31408ae",
     "showTitle": false,
     "title": ""
    }
   },
   "outputs": [],
   "source": [
    "def spam_ham(st):\n",
    "    if st=='ham':\n",
    "        return 1\n",
    "    else:\n",
    "        return 0"
   ]
  },
  {
   "cell_type": "code",
   "execution_count": 0,
   "metadata": {
    "application/vnd.databricks.v1+cell": {
     "cellMetadata": {
      "byteLimit": 2048000,
      "rowLimit": 10000
     },
     "inputWidgets": {},
     "nuid": "8d2abc4a-ab03-490b-85fc-7a806d0144be",
     "showTitle": false,
     "title": ""
    }
   },
   "outputs": [],
   "source": [
    "spam_hamUDF = udf(lambda x:spam_ham(x),IntegerType()) "
   ]
  },
  {
   "cell_type": "code",
   "execution_count": 0,
   "metadata": {
    "application/vnd.databricks.v1+cell": {
     "cellMetadata": {
      "byteLimit": 2048000,
      "rowLimit": 10000
     },
     "inputWidgets": {},
     "nuid": "9f49c01b-3c1e-498d-8b41-da72b8fc0d34",
     "showTitle": false,
     "title": ""
    }
   },
   "outputs": [],
   "source": [
    "data=data.withColumnRenamed(\"v1\",\"label\").withColumnRenamed(\"v2\",\"Content\")"
   ]
  },
  {
   "cell_type": "code",
   "execution_count": 0,
   "metadata": {
    "application/vnd.databricks.v1+cell": {
     "cellMetadata": {
      "byteLimit": 2048000,
      "rowLimit": 10000
     },
     "inputWidgets": {},
     "nuid": "41cdbbce-53b0-4b1f-9984-23f2ea7560b1",
     "showTitle": false,
     "title": ""
    }
   },
   "outputs": [],
   "source": [
    "data=data.withColumn(\"label\", spam_hamUDF(col(\"label\")))"
   ]
  },
  {
   "cell_type": "code",
   "execution_count": 0,
   "metadata": {
    "application/vnd.databricks.v1+cell": {
     "cellMetadata": {
      "byteLimit": 2048000,
      "rowLimit": 10000
     },
     "inputWidgets": {},
     "nuid": "d95f207b-3bc2-4d3b-b42e-b9bb8251600d",
     "showTitle": false,
     "title": ""
    }
   },
   "outputs": [],
   "source": [
    "data=data.select(['label','Content']) \n",
    "data=data.na.drop()"
   ]
  },
  {
   "cell_type": "code",
   "execution_count": 0,
   "metadata": {
    "application/vnd.databricks.v1+cell": {
     "cellMetadata": {
      "byteLimit": 2048000,
      "rowLimit": 10000
     },
     "inputWidgets": {},
     "nuid": "7bef7efe-4011-4ba6-b10d-6505e0ac70c8",
     "showTitle": false,
     "title": ""
    }
   },
   "outputs": [
    {
     "output_type": "stream",
     "name": "stdout",
     "output_type": "stream",
     "text": [
      "+-----+-----+\n|label|count|\n+-----+-----+\n|    1| 4825|\n|    0|  748|\n+-----+-----+\n\n"
     ]
    }
   ],
   "source": [
    "data.groupBy('label').count().show() "
   ]
  },
  {
   "cell_type": "code",
   "execution_count": 0,
   "metadata": {
    "application/vnd.databricks.v1+cell": {
     "cellMetadata": {
      "byteLimit": 2048000,
      "rowLimit": 10000
     },
     "inputWidgets": {},
     "nuid": "1375af05-11ac-427e-bae1-fcfcde70948f",
     "showTitle": false,
     "title": ""
    }
   },
   "outputs": [
    {
     "output_type": "stream",
     "name": "stdout",
     "output_type": "stream",
     "text": [
      "+-----+--------------------+\n|label|             Content|\n+-----+--------------------+\n|    1|Go until jurong p...|\n|    1|Ok lar... Joking ...|\n|    0|Free entry in 2 a...|\n|    1|U dun say so earl...|\n|    1|Nah I don't think...|\n+-----+--------------------+\nonly showing top 5 rows\n\n"
     ]
    }
   ],
   "source": [
    "data.show(5)"
   ]
  },
  {
   "cell_type": "code",
   "execution_count": 0,
   "metadata": {
    "application/vnd.databricks.v1+cell": {
     "cellMetadata": {
      "byteLimit": 2048000,
      "rowLimit": 10000
     },
     "inputWidgets": {},
     "nuid": "2bf41de5-9d4d-42cd-984b-d34d2fe085df",
     "showTitle": false,
     "title": ""
    }
   },
   "outputs": [],
   "source": [
    "def text_processing(st):\n",
    "    st=st.lower()\n",
    "    st=st.split(' ')\n",
    "    st=' '.join([wnl.lemmatize(w) for w in st if (w!='' and w.isalpha())])\n",
    "    return st"
   ]
  },
  {
   "cell_type": "code",
   "execution_count": 0,
   "metadata": {
    "application/vnd.databricks.v1+cell": {
     "cellMetadata": {
      "byteLimit": 2048000,
      "rowLimit": 10000
     },
     "inputWidgets": {},
     "nuid": "1d2ca695-c960-465a-8e21-320a2dd52bce",
     "showTitle": false,
     "title": ""
    }
   },
   "outputs": [],
   "source": [
    "text_processingUDF = udf(lambda x:text_processing(x),StringType()) "
   ]
  },
  {
   "cell_type": "code",
   "execution_count": 0,
   "metadata": {
    "application/vnd.databricks.v1+cell": {
     "cellMetadata": {
      "byteLimit": 2048000,
      "rowLimit": 10000
     },
     "inputWidgets": {},
     "nuid": "7c54f3bb-2dbf-439a-9dc4-3b1a7b137d4c",
     "showTitle": false,
     "title": ""
    }
   },
   "outputs": [],
   "source": [
    "data=data.withColumn(\"Content\", text_processingUDF(col(\"Content\")))"
   ]
  },
  {
   "cell_type": "code",
   "execution_count": 0,
   "metadata": {
    "application/vnd.databricks.v1+cell": {
     "cellMetadata": {
      "byteLimit": 2048000,
      "rowLimit": 10000
     },
     "inputWidgets": {},
     "nuid": "ebe4aeab-63d4-4bd3-9c4e-7293e72411e0",
     "showTitle": false,
     "title": ""
    }
   },
   "outputs": [
    {
     "output_type": "stream",
     "name": "stdout",
     "output_type": "stream",
     "text": [
      "+-----+--------------------+\n|label|             Content|\n+-----+--------------------+\n|    1|go until jurong a...|\n|    1|     ok joking wif u|\n|    0|free entry in a w...|\n+-----+--------------------+\nonly showing top 3 rows\n\n"
     ]
    }
   ],
   "source": [
    "data.show(3)"
   ]
  },
  {
   "cell_type": "code",
   "execution_count": 0,
   "metadata": {
    "application/vnd.databricks.v1+cell": {
     "cellMetadata": {
      "byteLimit": 2048000,
      "rowLimit": 10000
     },
     "inputWidgets": {},
     "nuid": "48fa217a-07ea-430a-8fd8-7786b52de39e",
     "showTitle": false,
     "title": ""
    }
   },
   "outputs": [],
   "source": [
    "(trainingData, testData) = data.randomSplit([0.75, 0.25], seed = 623)"
   ]
  },
  {
   "cell_type": "code",
   "execution_count": 0,
   "metadata": {
    "application/vnd.databricks.v1+cell": {
     "cellMetadata": {
      "byteLimit": 2048000,
      "rowLimit": 10000
     },
     "inputWidgets": {},
     "nuid": "931b0694-2abc-410b-a65f-e8c2eeedfc91",
     "showTitle": false,
     "title": ""
    }
   },
   "outputs": [
    {
     "output_type": "stream",
     "name": "stdout",
     "output_type": "stream",
     "text": [
      "Training Dataset Count: 4178\nTest Dataset Count: 1395\n"
     ]
    }
   ],
   "source": [
    "print(\"Training Dataset Count: \" + str(trainingData.count()))\n",
    "print(\"Test Dataset Count: \" + str(testData.count()))"
   ]
  },
  {
   "cell_type": "code",
   "execution_count": 0,
   "metadata": {
    "application/vnd.databricks.v1+cell": {
     "cellMetadata": {
      "byteLimit": 2048000,
      "rowLimit": 10000
     },
     "inputWidgets": {},
     "nuid": "84aa7e48-563d-467c-bc91-b886c7314d61",
     "showTitle": false,
     "title": ""
    }
   },
   "outputs": [
    {
     "output_type": "stream",
     "name": "stdout",
     "output_type": "stream",
     "text": [
      "+-----+-----+\n|label|count|\n+-----+-----+\n|    1| 3610|\n|    0|  568|\n+-----+-----+\n\n"
     ]
    }
   ],
   "source": [
    "trainingData.groupBy('label').count().show() "
   ]
  },
  {
   "cell_type": "code",
   "execution_count": 0,
   "metadata": {
    "application/vnd.databricks.v1+cell": {
     "cellMetadata": {
      "byteLimit": 2048000,
      "rowLimit": 10000
     },
     "inputWidgets": {},
     "nuid": "3045ae96-38f1-4877-8416-9dd92d3c4152",
     "showTitle": false,
     "title": ""
    }
   },
   "outputs": [
    {
     "output_type": "stream",
     "name": "stdout",
     "output_type": "stream",
     "text": [
      "+-----+-----+\n|label|count|\n+-----+-----+\n|    1| 1215|\n|    0|  180|\n+-----+-----+\n\n"
     ]
    }
   ],
   "source": [
    "testData.groupBy('label').count().show() "
   ]
  },
  {
   "cell_type": "code",
   "execution_count": 0,
   "metadata": {
    "application/vnd.databricks.v1+cell": {
     "cellMetadata": {
      "byteLimit": 2048000,
      "rowLimit": 10000
     },
     "inputWidgets": {},
     "nuid": "dd4de024-2433-480c-8114-85e777b9df14",
     "showTitle": false,
     "title": ""
    }
   },
   "outputs": [],
   "source": [
    "tokenizer = Tokenizer(inputCol=\"Content\", outputCol=\"words\")\n",
    "wordsData = tokenizer.transform(trainingData)\n",
    "\n",
    "add_stopwords = stopwords.words('english')\n",
    "\n",
    "stopwordsRemover = StopWordsRemover(inputCol=\"words\", outputCol=\"filtered\",stopWords=add_stopwords)\n",
    "stopwordsRemoverData = stopwordsRemover.transform(wordsData)\n",
    "\n",
    "hashingTF = HashingTF(inputCol=\"filtered\", outputCol=\"rawFeatures\", numFeatures=100)\n",
    "featurizedData = hashingTF.transform(stopwordsRemoverData)\n",
    "# alternatively, CountVectorizer can also be used to get term frequency vectors\n",
    "\n",
    "idf = IDF(inputCol=\"rawFeatures\", outputCol=\"features\",minDocFreq=3)\n",
    "idfModel = idf.fit(featurizedData)\n",
    "trainingData = idfModel.transform(featurizedData)\n"
   ]
  },
  {
   "cell_type": "code",
   "execution_count": 0,
   "metadata": {
    "application/vnd.databricks.v1+cell": {
     "cellMetadata": {
      "byteLimit": 2048000,
      "rowLimit": 10000
     },
     "inputWidgets": {},
     "nuid": "8f8ab927-acc3-4b0a-bb01-6f02b7261730",
     "showTitle": false,
     "title": ""
    }
   },
   "outputs": [],
   "source": [
    "wordsData = tokenizer.transform(testData)\n",
    "stopwordsRemoverData = stopwordsRemover.transform(wordsData)\n",
    "featurizedData = hashingTF.transform(stopwordsRemoverData)\n",
    "testData = idfModel.transform(featurizedData)\n"
   ]
  },
  {
   "cell_type": "code",
   "execution_count": 0,
   "metadata": {
    "application/vnd.databricks.v1+cell": {
     "cellMetadata": {
      "byteLimit": 2048000,
      "rowLimit": 10000
     },
     "inputWidgets": {},
     "nuid": "62f4035b-1e13-4bd8-a202-c3d4222f200e",
     "showTitle": false,
     "title": ""
    }
   },
   "outputs": [
    {
     "output_type": "stream",
     "name": "stdout",
     "output_type": "stream",
     "text": [
      "+++++++++++++ LogisticRegression +++++++++++++\naccuracy :  93.26164874551971  recall :  65.0  precision :  79.05405405405406\n{Param(parent='LogisticRegression_5e80cc68976e', name='aggregationDepth', doc='suggested depth for treeAggregate (>= 2).'): 2, Param(parent='LogisticRegression_5e80cc68976e', name='elasticNetParam', doc='the ElasticNet mixing parameter, in range [0, 1]. For alpha = 0, the penalty is an L2 penalty. For alpha = 1, it is an L1 penalty.'): 0.0, Param(parent='LogisticRegression_5e80cc68976e', name='family', doc='The name of family which is a description of the label distribution to be used in the model. Supported options: auto, binomial, multinomial'): 'auto', Param(parent='LogisticRegression_5e80cc68976e', name='featuresCol', doc='features column name.'): 'features', Param(parent='LogisticRegression_5e80cc68976e', name='fitIntercept', doc='whether to fit an intercept term.'): True, Param(parent='LogisticRegression_5e80cc68976e', name='labelCol', doc='label column name.'): 'label', Param(parent='LogisticRegression_5e80cc68976e', name='maxBlockSizeInMB', doc='maximum memory in MB for stacking input data into blocks. Data is stacked within partitions. If more than remaining data size in a partition then it is adjusted to the data size. Default 0.0 represents choosing optimal value, depends on specific algorithm. Must be >= 0.'): 0.0, Param(parent='LogisticRegression_5e80cc68976e', name='maxIter', doc='max number of iterations (>= 0).'): 100, Param(parent='LogisticRegression_5e80cc68976e', name='predictionCol', doc='prediction column name.'): 'prediction', Param(parent='LogisticRegression_5e80cc68976e', name='probabilityCol', doc='Column name for predicted class conditional probabilities. Note: Not all models output well-calibrated probability estimates! These probabilities should be treated as confidences, not precise probabilities.'): 'probability', Param(parent='LogisticRegression_5e80cc68976e', name='rawPredictionCol', doc='raw prediction (a.k.a. confidence) column name.'): 'rawPrediction', Param(parent='LogisticRegression_5e80cc68976e', name='regParam', doc='regularization parameter (>= 0).'): 0.0, Param(parent='LogisticRegression_5e80cc68976e', name='standardization', doc='whether to standardize the training features before fitting the model.'): True, Param(parent='LogisticRegression_5e80cc68976e', name='threshold', doc='Threshold in binary classification prediction, in range [0, 1]. If threshold and thresholds are both set, they must match.e.g. if threshold is p, then thresholds must be equal to [1-p, p].'): 0.5, Param(parent='LogisticRegression_5e80cc68976e', name='tol', doc='the convergence tolerance for iterative algorithms (>= 0).'): 1e-06}\n"
     ]
    }
   ],
   "source": [
    "lr = LogisticRegression(featuresCol='features', labelCol='label')\n",
    "paramGrid = ParamGridBuilder() \\\n",
    "    .addGrid(lr.regParam, [0,0.1, 0.01,0.02]) \\\n",
    "    .addGrid(lr.elasticNetParam, [0, 0.1, 0.01,0.02]) \\\n",
    "    .build()\n",
    "\n",
    "crossval = CrossValidator(estimator=lr,\n",
    "                          estimatorParamMaps=paramGrid,\n",
    "                          evaluator=MulticlassClassificationEvaluator(predictionCol=\"prediction\",metricName=\"recallByLabel\"),\n",
    "                          numFolds=5) \n",
    "cvModel = crossval.fit(trainingData)\n",
    "prediction = cvModel.transform(testData)\n",
    "\n",
    "evaluator_accuracy = MulticlassClassificationEvaluator(predictionCol=\"prediction\",metricName=\"accuracy\")\n",
    "evaluator_recall = MulticlassClassificationEvaluator(predictionCol=\"prediction\",metricName=\"recallByLabel\")\n",
    "evaluator_precision = MulticlassClassificationEvaluator(predictionCol=\"prediction\",metricName=\"precisionByLabel\")\n",
    "\n",
    "print('+++++++++++++ LogisticRegression +++++++++++++')\n",
    "print('accuracy : ',evaluator_accuracy.evaluate(prediction)*100,' recall : ',evaluator_recall.evaluate(prediction)*100,' precision : ',evaluator_precision.evaluate(prediction)*100)\n",
    "\n",
    "print(cvModel.bestModel.extractParamMap())"
   ]
  },
  {
   "cell_type": "code",
   "execution_count": 0,
   "metadata": {
    "application/vnd.databricks.v1+cell": {
     "cellMetadata": {
      "byteLimit": 2048000,
      "rowLimit": 10000
     },
     "inputWidgets": {},
     "nuid": "e5781497-aca5-459e-8125-5ae017b43227",
     "showTitle": false,
     "title": ""
    }
   },
   "outputs": [
    {
     "output_type": "stream",
     "name": "stdout",
     "output_type": "stream",
     "text": [
      "+++++++++++++ RandomForestClassifier +++++++++++++\naccuracy :  94.91039426523298  recall :  65.0  precision :  93.60000000000001\n{Param(parent='RandomForestClassifier_31ec6d06d350', name='bootstrap', doc='Whether bootstrap samples are used when building trees.'): True, Param(parent='RandomForestClassifier_31ec6d06d350', name='cacheNodeIds', doc='If false, the algorithm will pass trees to executors to match instances with nodes. If true, the algorithm will cache node IDs for each instance. Caching can speed up training of deeper trees. Users can set how often should the cache be checkpointed or disable it by setting checkpointInterval.'): False, Param(parent='RandomForestClassifier_31ec6d06d350', name='checkpointInterval', doc='set checkpoint interval (>= 1) or disable checkpoint (-1). E.g. 10 means that the cache will get checkpointed every 10 iterations. Note: this setting will be ignored if the checkpoint directory is not set in the SparkContext.'): 10, Param(parent='RandomForestClassifier_31ec6d06d350', name='featureSubsetStrategy', doc=\"The number of features to consider for splits at each tree node. Supported options: 'auto' (choose automatically for task: If numTrees == 1, set to 'all'. If numTrees > 1 (forest), set to 'sqrt' for classification and to 'onethird' for regression), 'all' (use all features), 'onethird' (use 1/3 of the features), 'sqrt' (use sqrt(number of features)), 'log2' (use log2(number of features)), 'n' (when n is in the range (0, 1.0], use n * number of features. When n is in the range (1, number of features), use n features). default = 'auto'\"): 'auto', Param(parent='RandomForestClassifier_31ec6d06d350', name='featuresCol', doc='features column name.'): 'features', Param(parent='RandomForestClassifier_31ec6d06d350', name='impurity', doc='Criterion used for information gain calculation (case-insensitive). Supported options: entropy, gini'): 'gini', Param(parent='RandomForestClassifier_31ec6d06d350', name='labelCol', doc='label column name.'): 'label', Param(parent='RandomForestClassifier_31ec6d06d350', name='leafCol', doc='Leaf indices column name. Predicted leaf index of each instance in each tree by preorder.'): '', Param(parent='RandomForestClassifier_31ec6d06d350', name='maxBins', doc='Max number of bins for discretizing continuous features.  Must be >=2 and >= number of categories for any categorical feature.'): 32, Param(parent='RandomForestClassifier_31ec6d06d350', name='maxDepth', doc='Maximum depth of the tree. (>= 0) E.g., depth 0 means 1 leaf node; depth 1 means 1 internal node + 2 leaf nodes. Must be in range [0, 30].'): 15, Param(parent='RandomForestClassifier_31ec6d06d350', name='maxMemoryInMB', doc='Maximum memory in MB allocated to histogram aggregation. If too small, then 1 node will be split per iteration, and its aggregates may exceed this size.'): 256, Param(parent='RandomForestClassifier_31ec6d06d350', name='minInfoGain', doc='Minimum information gain for a split to be considered at a tree node.'): 0.0, Param(parent='RandomForestClassifier_31ec6d06d350', name='minInstancesPerNode', doc='Minimum number of instances each child must have after split. If a split causes the left or right child to have fewer than minInstancesPerNode, the split will be discarded as invalid. Should be >= 1.'): 1, Param(parent='RandomForestClassifier_31ec6d06d350', name='minWeightFractionPerNode', doc='Minimum fraction of the weighted sample count that each child must have after split. If a split causes the fraction of the total weight in the left or right child to be less than minWeightFractionPerNode, the split will be discarded as invalid. Should be in interval [0.0, 0.5).'): 0.0, Param(parent='RandomForestClassifier_31ec6d06d350', name='numTrees', doc='Number of trees to train (>= 1).'): 20, Param(parent='RandomForestClassifier_31ec6d06d350', name='predictionCol', doc='prediction column name.'): 'prediction', Param(parent='RandomForestClassifier_31ec6d06d350', name='probabilityCol', doc='Column name for predicted class conditional probabilities. Note: Not all models output well-calibrated probability estimates! These probabilities should be treated as confidences, not precise probabilities.'): 'probability', Param(parent='RandomForestClassifier_31ec6d06d350', name='rawPredictionCol', doc='raw prediction (a.k.a. confidence) column name.'): 'rawPrediction', Param(parent='RandomForestClassifier_31ec6d06d350', name='seed', doc='random seed.'): -5387697053847413545, Param(parent='RandomForestClassifier_31ec6d06d350', name='subsamplingRate', doc='Fraction of the training data used for learning each decision tree, in range (0, 1].'): 1.0}\n"
     ]
    }
   ],
   "source": [
    "rf = RandomForestClassifier(featuresCol='features', labelCol='label')\n",
    "\n",
    "paramGrid = ParamGridBuilder() \\\n",
    "    .addGrid(rf.maxDepth, [5,10,15]) \\\n",
    "    .addGrid(rf.maxBins, [32,42,52]) \\\n",
    "    .addGrid(rf.minInstancesPerNode, [1,2,3,4,5]) \\\n",
    "    .build()\n",
    "\n",
    "crossval = CrossValidator(estimator=rf,\n",
    "                          estimatorParamMaps=paramGrid,\n",
    "                          evaluator=MulticlassClassificationEvaluator(predictionCol=\"prediction\",metricName=\"recallByLabel\"),\n",
    "                          numFolds=5) \n",
    "cvModel = crossval.fit(trainingData)\n",
    "prediction = cvModel.transform(testData)\n",
    "\n",
    "evaluator_accuracy = MulticlassClassificationEvaluator(predictionCol=\"prediction\",metricName=\"accuracy\")\n",
    "evaluator_recall = MulticlassClassificationEvaluator(predictionCol=\"prediction\",metricName=\"recallByLabel\")\n",
    "evaluator_precision = MulticlassClassificationEvaluator(predictionCol=\"prediction\",metricName=\"precisionByLabel\")\n",
    "\n",
    "print('+++++++++++++ RandomForestClassifier +++++++++++++')\n",
    "print('accuracy : ',evaluator_accuracy.evaluate(prediction)*100,' recall : ',evaluator_recall.evaluate(prediction)*100,' precision : ',evaluator_precision.evaluate(prediction)*100)\n",
    "\n",
    "print(cvModel.bestModel.extractParamMap())"
   ]
  },
  {
   "cell_type": "code",
   "execution_count": 0,
   "metadata": {
    "application/vnd.databricks.v1+cell": {
     "cellMetadata": {
      "byteLimit": 2048000,
      "rowLimit": 10000
     },
     "inputWidgets": {},
     "nuid": "7063a9de-be54-4c8c-93e7-8458c5b71c84",
     "showTitle": false,
     "title": ""
    }
   },
   "outputs": [
    {
     "output_type": "stream",
     "name": "stdout",
     "output_type": "stream",
     "text": [
      "+++++++++++++ LinearSVC +++++++++++++\naccuracy :  93.11827956989247  recall :  66.11111111111111  precision :  77.27272727272727\n{Param(parent='LinearSVC_95255ffeece3', name='aggregationDepth', doc='suggested depth for treeAggregate (>= 2).'): 2, Param(parent='LinearSVC_95255ffeece3', name='featuresCol', doc='features column name.'): 'features', Param(parent='LinearSVC_95255ffeece3', name='fitIntercept', doc='whether to fit an intercept term.'): True, Param(parent='LinearSVC_95255ffeece3', name='labelCol', doc='label column name.'): 'label', Param(parent='LinearSVC_95255ffeece3', name='maxBlockSizeInMB', doc='maximum memory in MB for stacking input data into blocks. Data is stacked within partitions. If more than remaining data size in a partition then it is adjusted to the data size. Default 0.0 represents choosing optimal value, depends on specific algorithm. Must be >= 0.'): 0.0, Param(parent='LinearSVC_95255ffeece3', name='maxIter', doc='max number of iterations (>= 0).'): 100, Param(parent='LinearSVC_95255ffeece3', name='predictionCol', doc='prediction column name.'): 'prediction', Param(parent='LinearSVC_95255ffeece3', name='rawPredictionCol', doc='raw prediction (a.k.a. confidence) column name.'): 'rawPrediction', Param(parent='LinearSVC_95255ffeece3', name='regParam', doc='regularization parameter (>= 0).'): 0.0, Param(parent='LinearSVC_95255ffeece3', name='standardization', doc='whether to standardize the training features before fitting the model.'): True, Param(parent='LinearSVC_95255ffeece3', name='threshold', doc='The threshold in binary classification applied to the linear model prediction.  This threshold can be any real number, where Inf will make all predictions 0.0 and -Inf will make all predictions 1.0.'): 0.0, Param(parent='LinearSVC_95255ffeece3', name='tol', doc='the convergence tolerance for iterative algorithms (>= 0).'): 1e-06}\n"
     ]
    }
   ],
   "source": [
    "svc = LinearSVC(featuresCol='features', labelCol='label')\n",
    "\n",
    "paramGrid = ParamGridBuilder() \\\n",
    "    .addGrid(lr.regParam, [0,0.1, 0.01,0.02]) \\\n",
    "    .build()\n",
    "\n",
    "crossval = CrossValidator(estimator=svc,\n",
    "                          estimatorParamMaps=paramGrid,\n",
    "                          evaluator=MulticlassClassificationEvaluator(predictionCol=\"prediction\",metricName=\"recallByLabel\"),\n",
    "                          numFolds=5) \n",
    "cvModel = crossval.fit(trainingData)\n",
    "prediction = cvModel.transform(testData)\n",
    "\n",
    "evaluator_accuracy = MulticlassClassificationEvaluator(predictionCol=\"prediction\",metricName=\"accuracy\")\n",
    "evaluator_recall = MulticlassClassificationEvaluator(predictionCol=\"prediction\",metricName=\"recallByLabel\")\n",
    "evaluator_precision = MulticlassClassificationEvaluator(predictionCol=\"prediction\",metricName=\"precisionByLabel\")\n",
    "\n",
    "print('+++++++++++++ LinearSVC +++++++++++++')\n",
    "print('accuracy : ',evaluator_accuracy.evaluate(prediction)*100,' recall : ',evaluator_recall.evaluate(prediction)*100,' precision : ',evaluator_precision.evaluate(prediction)*100)\n",
    "\n",
    "print(cvModel.bestModel.extractParamMap())"
   ]
  },
  {
   "cell_type": "code",
   "execution_count": 0,
   "metadata": {
    "application/vnd.databricks.v1+cell": {
     "cellMetadata": {
      "byteLimit": 2048000,
      "rowLimit": 10000
     },
     "inputWidgets": {},
     "nuid": "752523d3-e0fe-4995-9b9e-d1fcda3d6761",
     "showTitle": false,
     "title": ""
    }
   },
   "outputs": [],
   "source": []
  }
 ],
 "metadata": {
  "application/vnd.databricks.v1+notebook": {
   "dashboards": [],
   "language": "python",
   "notebookMetadata": {
    "pythonIndentUnit": 4
   },
   "notebookName": "SMS_Spam_Classification",
   "widgets": {}
  }
 },
 "nbformat": 4,
 "nbformat_minor": 0
}
